{
 "cells": [
  {
   "cell_type": "code",
   "execution_count": 1,
   "metadata": {},
   "outputs": [],
   "source": [
    "#!/usr/bin/env python3\n",
    "# -*- coding: utf-8 -*-"
   ]
  },
  {
   "cell_type": "markdown",
   "metadata": {},
   "source": [
    "# Introduction to AI and OpenVino\n",
    "## Session 03d - Regression\n",
    "\n",
    "###  Part 4: Supervised Machine Learning Algorithms\n",
    "\n",
    "<img src='../../prasami_images/prasami_color_tutorials_small.png' style = 'width:400px;' alt=\"By Pramod Sharma : pramod.sharma@prasami.com\" align=\"left\"/>"
   ]
  },
  {
   "cell_type": "code",
   "execution_count": 2,
   "metadata": {},
   "outputs": [],
   "source": [
    "###------------------\n",
    "### Import Statements\n",
    "###------------------\n",
    "import sys\n",
    "import os\n",
    "import datetime\n",
    "import numpy as np\n",
    "import pandas as pd\n",
    "\n",
    "\n",
    "import matplotlib\n",
    "from sklearn import datasets\n",
    "import seaborn as sns\n",
    "import matplotlib.pyplot as plt\n",
    "from cycler import cycler"
   ]
  },
  {
   "cell_type": "code",
   "execution_count": 3,
   "metadata": {},
   "outputs": [
    {
     "data": {
      "text/plain": [
       "<Figure size 1500x900 with 0 Axes>"
      ]
     },
     "metadata": {},
     "output_type": "display_data"
    }
   ],
   "source": [
    "###----------------------\n",
    "### Some Basic Parameters\n",
    "###----------------------\n",
    "\n",
    "# set location of input files:\n",
    "inpDir = os.path.join('..', '..', 'input')\n",
    "\n",
    "# set location of output files\n",
    "outDir = os.path.join('..', 'output')\n",
    "\n",
    "# define and set random state \n",
    "RANDOM_STATE = 24\n",
    "np.random.seed(RANDOM_STATE) # Set Random Seed for reproducible  results\n",
    "\n",
    "# parameters for Matplotlib\n",
    "params = {'legend.fontsize': 'large',\n",
    "          'figure.figsize': (15, 9),\n",
    "          'axes.labelsize': 'large',\n",
    "          'axes.titlesize':'x-large',\n",
    "          'xtick.labelsize':'x-large',\n",
    "          'ytick.labelsize':'large',\n",
    "          'savefig.dpi': 150,\n",
    "          'image.interpolation': 'none',\n",
    "          'savefig.bbox' : 'tight',\n",
    "          'lines.linewidth' : 1,\n",
    "          'legend.numpoints' : 1\n",
    "         }\n",
    "\n",
    "CMAP = plt.cm.brg\n",
    "\n",
    "plt.rcParams.update(params);\n",
    "\n",
    "plt.set_cmap(CMAP);\n",
    "\n",
    "TEST_SIZE = 0.2"
   ]
  },
  {
   "cell_type": "markdown",
   "metadata": {},
   "source": [
    "## k-neighbors Regression\n",
    "Implementations of LinearRegression, LassoRegression and RidgeRegression with appropriate Regularizers and Optimizers.\n",
    "Linear Regression\n",
    "- Optimizer: Square Least\n",
    "- Regularizer: None\n",
    "\n",
    "Lasso Regression\n",
    "- Optimizer: Gradient Decent\n",
    "- Regularizer: L1\n",
    "\n",
    "Ridge Regression\n",
    "- Optimizer: Gradient Decent\n",
    "- Regularizer: L2\n",
    "\n",
    "\n",
    "\n",
    "### Determine your distance metrics\n",
    "\n",
    "**Euclidean distance (p = 2)** between two input vectors $X_r$ and $X_s$\n",
    "\n",
    "$d(X_r , X_s ) =|| X_r - X_s ||^2=\\sqrt{\\sum_{i=1}^n{\\biggl((x_r^i-x_s^i)^2 \\biggr)}}$\n",
    "\n",
    "\n",
    "Given that the K-NN method is dependent on distance measures, it is\n",
    "recommended that the input data be standardized first before proceeding to build\n",
    "an optimal K-NN model.\n",
    "\n",
    "<img src='../../images/knn_vector.png' alt = 'model_complexity' width=400px />"
   ]
  },
  {
   "cell_type": "markdown",
   "metadata": {},
   "source": [
    "**Manhattan distance (p=1)** is the absolute value between two points.I t is commonly visualized with a grid, illustrating how one might navigate from one address to another along the grid.\n",
    "\n",
    "$d(X_r , X_s ) =| X_r - X_s |=\\sum_{i=1}^n{|x_r^i-x_s^i|}$"
   ]
  },
  {
   "cell_type": "markdown",
   "metadata": {},
   "source": [
    "**Minkowski distance:** is the generalized form of Euclidean and Manhattan distance metrics. The parameter, p, in the formula below, allows for the creation of other distance metrics. Euclidean distance is represented by this formula when p is equal to two, and Manhattan distance is denoted with p equal to one.\n",
    "\n",
    "$d(X_r , X_s ) =| X_r - X_s |^{(\\frac{1}{p})}=\\biggl({\\sum_{i=1}^n|x_r^i-x_s^i| }\\biggr)^{(\\frac{1}{p})}$\n",
    "\n"
   ]
  },
  {
   "cell_type": "markdown",
   "metadata": {},
   "source": [
    "**Hamming distance:** is used typically used with Boolean or string vectors, identifying the points where the vectors do not match. As a result, it has also been referred to as the overlap metric. This can be represented with the following formula:\n",
    "\n",
    "$\\begin{equation}\n",
    "    D_h=\\sum_{i=1}^n|x_r^i-x_s^i|\\\\\n",
    "    \\text{Where }d_h^i =\n",
    "    \\begin{cases}\n",
    "      0, & \\text{if}\\ x_r^i=x_s^i \\\\\n",
    "      1, & \\text{otherwise}\\}\n",
    "    \\end{cases}\n",
    "  \\end{equation}$\n",
    "  \n",
    "  <img src='../../images/hamming_distance.jpg' alt = 'Figure hamming distance' width=500px />\n",
    "  \n",
    "  "
   ]
  },
  {
   "cell_type": "markdown",
   "metadata": {},
   "source": [
    "## Weighted averages\n",
    "The algorithm assigns weights to the neighbors based on their proximity or inverse distance to the input data point. The `closer` neighbors may have higher weights, indicating their stronger influence on the prediction.\n",
    "\n",
    "The `weighted average` is calculated by summing up the product of each neighbor's target value and its corresponding weight, then dividing by the sum of the weights.\n",
    "\n",
    "$\n",
    "\\begin{align}\n",
    "\\text{For K = 1: } & \\hat{y}^{(1)} = y_1\\\\\n",
    "\\text{For K = 2: } & \\hat{y}^{(2)} = \\frac{\\frac {1}{d_1}.y_1 + \\frac {1}{d_2}.y_2}{\\frac {1}{d_1} + \\frac {1}{d_2}}\\\\\n",
    "\\text{For K = 3: } & \\hat{y}^{(3)} = \\frac{\\frac {1}{d_1}.y_1 + \\frac {1}{d_2}.y_2 + \\frac {1}{d_3}.y_3}{\\frac {1}{d_1} + \\frac {1}{d_2} + \\frac {1}{d_3}}\\\\\n",
    "\\vdots & \\vdots\\\\\n",
    "\\text{For K = n: } & \\hat{y}^{(n)} = \\frac{\\frac {1}{d_1}.y_1 + \\frac {1}{d_2}.y_2 \\cdots + \\frac {1}{d_n}.y_n}{\\frac {1}{d_1} + \\frac {1}{d_2} \\cdots + \\frac {1}{d_n}}\\\\\n",
    "\\end{align}\n",
    "$\n",
    "\n",
    "where $d_i$ is distance of prediction from the $i^{th}$ neighbor. "
   ]
  },
  {
   "cell_type": "code",
   "execution_count": 4,
   "metadata": {},
   "outputs": [],
   "source": [
    "def fn_make_wave(n_samples=100):\n",
    "    '''\n",
    "    Args:\n",
    "        n_samples : int, number of samples\n",
    "        \n",
    "    Returns:\n",
    "        x: np.ndarray colomn veactor with n_sample values\n",
    "        y: np.ndarray labels\n",
    "    '''\n",
    "    \n",
    "    # instantiate random state\n",
    "    rnd = np.random.RandomState(RANDOM_STATE)\n",
    "    \n",
    "    # generate n_samples\n",
    "    x = rnd.uniform(-3, 3, size=n_samples)\n",
    "    \n",
    "    # generate y \n",
    "    y_no_noise = (np.sin(4 * x) + x)\n",
    "    \n",
    "    # add some noise\n",
    "    y = (y_no_noise + rnd.normal(size=len(x))) / 2\n",
    "    \n",
    "    return x.reshape(-1, 1), y"
   ]
  },
  {
   "cell_type": "code",
   "execution_count": 5,
   "metadata": {},
   "outputs": [],
   "source": [
    "#  3-color colormap\n",
    "\n",
    "#from matplotlib.colors import ListedColormap #, colorConverter, LinearSegmentedColormap\n",
    "\n",
    "#cm_3 = ListedColormap(['#0000aa', '#ff2020', '#50ff50'])"
   ]
  },
  {
   "cell_type": "code",
   "execution_count": 6,
   "metadata": {},
   "outputs": [],
   "source": [
    "from sklearn.neighbors import KNeighborsRegressor\n",
    "from sklearn.metrics import euclidean_distances\n",
    "from sklearn.model_selection import train_test_split\n",
    "\n",
    "n_neighbors=1\n",
    "\n",
    "#Create a dataset\n",
    "X, y = fn_make_wave(n_samples=100)\n",
    "\n",
    "# split in train and test sets\n",
    "X_train, X_test, y_train, y_test = train_test_split( X, y, \n",
    "                                                    random_state=RANDOM_STATE,\n",
    "                                                    test_size = 4 )\n",
    "\n",
    "# calculate Euclidean Distance\n",
    "dist = euclidean_distances(X_train, X_test)\n",
    "\n",
    "# who is closest?\n",
    "closest = np.argsort(dist, axis=0)"
   ]
  },
  {
   "cell_type": "code",
   "execution_count": 9,
   "metadata": {},
   "outputs": [
    {
     "data": {
      "image/png": "[encoded data removed]",
      "text/plain": [
       "<Figure size 1500x900 with 1 Axes>"
      ]
     },
     "metadata": {},
     "output_type": "display_data"
    }
   ],
   "source": [
    "from sklearn.neighbors import KNeighborsRegressor\n",
    "from sklearn.metrics import euclidean_distances\n",
    "from sklearn.model_selection import train_test_split\n",
    "\n",
    "n_neighbors=1\n",
    "\n",
    "#Create a dataset\n",
    "X, y = fn_make_wave(n_samples=100)\n",
    "\n",
    "# split in train and test sets\n",
    "X_train, X_test, y_train, y_test = train_test_split( X, y, \n",
    "                                                    random_state=RANDOM_STATE,\n",
    "                                                    test_size = 4 )\n",
    "\n",
    "# calculate Euclidean Distance\n",
    "dist = euclidean_distances(X_train, X_test)\n",
    "\n",
    "# who is closest?\n",
    "closest = np.argsort(dist, axis=0)\n",
    "\n",
    "#Instantiate a Regressor and train\n",
    "reg = KNeighborsRegressor(n_neighbors=n_neighbors).fit(X_train, y_train)\n",
    "\n",
    "# make predictions\n",
    "y_pred = reg.predict(X_test)\n",
    "\n",
    "# instantiate a plot\n",
    "fig, ax = plt.subplots()\n",
    "\n",
    "# plot training data\n",
    "train, = ax.plot(X_train, y_train, 'o', c='b')\n",
    "\n",
    "test, = ax.plot(X_test, -3 * np.ones(len(X_test)), '*', c='orange',\n",
    "                 markersize=20)\n",
    "\n",
    "pred, = ax.plot(X_test, y_pred, '*', c='r', markersize=20)\n",
    "\n",
    "\n",
    "# little decorations\n",
    "ax.vlines(X_test, -3.1, 3.1, linestyle=\"--\", linewidth = 3)\n",
    "\n",
    "ax.vlines(0, -3.1, 3.1, color='k', linewidth = 3)\n",
    "\n",
    "ax.hlines(0, -3.1, 3.1, color='k', linewidth = 3)\n",
    "\n",
    "# Connect between nearest neighbor and prediction\n",
    "for x, y_, neighbors in zip(X_test, y_pred, closest.T):\n",
    "    \n",
    "    for neighbor in neighbors[:n_neighbors]:\n",
    "        \n",
    "        plt.arrow(x[0], y_, \n",
    "                  X_train[neighbor, 0] - x[0], \n",
    "                  y_train[neighbor] - y_,\n",
    "                  head_width=0, \n",
    "                  fc='k', ec='k')\n",
    "        \n",
    "gt = ax.scatter(X_test[:, 0], \n",
    "            y_test, edgecolors='r', \n",
    "            facecolor = 'r');\n",
    "\n",
    "ax.scatter(X_test[:, 0], \n",
    "            y_test, s=200, edgecolors='k', \n",
    "            facecolor = 'none');\n",
    "\n",
    "ax.legend([train, test, gt, pred],\n",
    "           [\"training data/target\", \"test data\", \"ground truth\", \"test prediction\"],\n",
    "           ncol=4, loc=(.1, 1.025))\n",
    "\n",
    "ax.set_ylim(-3.1, 3.1)\n",
    "\n",
    "ax.set_xlabel(\"Feature\")\n",
    "\n",
    "ax.set_ylabel(\"Target\")\n",
    "\n",
    "plt.grid()"
   ]
  },
  {
   "cell_type": "markdown",
   "metadata": {},
   "source": [
    "### Take 3 Neighbors"
   ]
  },
  {
   "cell_type": "code",
   "execution_count": 11,
   "metadata": {},
   "outputs": [
    {
     "data": {
      "image/png": "[encoded data removed]",
      "text/plain": [
       "<Figure size 1500x900 with 1 Axes>"
      ]
     },
     "metadata": {},
     "output_type": "display_data"
    }
   ],
   "source": [
    "n_neighbors=3\n",
    "\n",
    "#Instantiate a Regressor and train\n",
    "reg = KNeighborsRegressor(n_neighbors=n_neighbors).fit(X_train, y_train)\n",
    "\n",
    "# make predictions\n",
    "y_pred = reg.predict(X_test)\n",
    "\n",
    "\n",
    "# calculate Euclidean Distance\n",
    "dist = euclidean_distances(X_train, X_test)\n",
    "\n",
    "# who is closest?\n",
    "closest = np.argsort(dist, axis=0)\n",
    "\n",
    "# instantiate a plot\n",
    "fig, ax = plt.subplots()\n",
    "\n",
    "colors = CMAP(np.linspace(0,1,5))\n",
    "\n",
    "\n",
    "# plot training data\n",
    "train, = ax.plot(X_train, y_train, 'o', c='b')\n",
    "\n",
    "test, = ax.plot(X_test, -3 * np.ones(len(X_test)), '*', c='orange',\n",
    "                 markersize=20)\n",
    "\n",
    "pred, = ax.plot(X_test, y_pred, '*', c='r', markersize=20)\n",
    "\n",
    "\n",
    "# little decorations\n",
    "ax.vlines(X_test, -3.1, 3.1, linestyle=\"--\", linewidth = 3, color = colors[3])\n",
    "\n",
    "ax.vlines(0, -3.1, 3.1, color='k', linewidth = 3)\n",
    "\n",
    "ax.hlines(0, -3.1, 3.1, color='k', linewidth = 3)\n",
    "\n",
    "# Connect between nearest neighbor and prediction\n",
    "for x, y_, neighbors in zip(X_test, y_pred, closest.T):\n",
    "\n",
    "    for neighbor in neighbors[:n_neighbors]:\n",
    "        \n",
    "        plt.arrow(x[0], y_,\n",
    "                  X_train[neighbor, 0] - x[0], \n",
    "                  y_train[neighbor] - y_,\n",
    "                  head_width=0, \n",
    "                  fc=colors[4], ec=colors[4])\n",
    "            \n",
    "gt = ax.scatter(X_test[:, 0], \n",
    "            y_test, edgecolors='r', facecolor = 'r');\n",
    "\n",
    "ax.scatter(X_test[:, 0], \n",
    "            y_test,\n",
    "           s=200, edgecolors='k', facecolor = 'none');\n",
    "\n",
    "\n",
    "ax.legend([train, test, gt, pred],\n",
    "           [\"training data/target\", \"test data\", \"ground truth\", \"test prediction\"],\n",
    "           ncol=4, loc=(.1, 1.025))\n",
    "\n",
    "ax.set_ylim(-3.1, 3.1)\n",
    "\n",
    "ax.set_xlabel(\"Feature\")\n",
    "\n",
    "ax.set_ylabel(\"Target\");"
   ]
  },
  {
   "cell_type": "markdown",
   "metadata": {},
   "source": [
    "## Tracking some matrix\n",
    "\n",
    "Once again we will initialize data and this time keep reasonable test size."
   ]
  },
  {
   "cell_type": "code",
   "execution_count": null,
   "metadata": {},
   "outputs": [],
   "source": [
    "X, y = fn_make_wave(n_samples=100)\n",
    "\n",
    "# split the wave dataset into a training and a test set\n",
    "X_train, X_test, y_train, y_test = train_test_split(X, y, test_size=TEST_SIZE, random_state=RANDOM_STATE)\n",
    "\n",
    "# instantiate the model and set the number of neighbors to consider to 3\n",
    "reg = KNeighborsRegressor(n_neighbors=3)\n",
    "\n",
    "# fit the model using the training data and training targets\n",
    "reg.fit(X_train, y_train)\n",
    "\n",
    "y_pred = reg.predict(X_test)\n",
    "\n",
    "y_pred"
   ]
  },
  {
   "cell_type": "markdown",
   "metadata": {},
   "source": [
    " ### R-squared\n",
    "R-squared $R^2$ = 1-$\\frac{SS_{res}}{SS_{tot}}$\n",
    "Where $SS_{res}$ = sum of square of residuals,\n",
    "and $SS_{tot}$ = Total sum of squares\n",
    "\n",
    "$\n",
    "\\begin{align}\n",
    "SS_{res} = \\sum\\limits_{i=1} ^{n}{({y_i-\\hat{y}_i})^2}\\\\\n",
    "SS_{tot} = \\sum\\limits_{i=1} ^{n}{({y_i-\\bar{y}})^2}\\\\\n",
    "\\end{align}\n",
    "$\n",
    "\n",
    "**where:** $\\hat{y}_i$ is prediction and $\\bar{y}$ is mean.\n",
    "\n",
    "Best values will be 1.0 and worst be 0.0."
   ]
  },
  {
   "cell_type": "code",
   "execution_count": null,
   "metadata": {},
   "outputs": [],
   "source": [
    "print(r\"Test set R^2: {:.2f}\".format(reg.score(X_test, y_test)))"
   ]
  },
  {
   "cell_type": "code",
   "execution_count": null,
   "metadata": {},
   "outputs": [],
   "source": [
    "fig, axes = plt.subplots(1, 3, figsize=(15, 4))\n",
    "\n",
    "colors = CMAP(np.linspace(0,1,3))\n",
    "\n",
    "# create 1,000 data points, evenly spaced between -3 and 3\n",
    "line = np.linspace(-3, 3, 1000).reshape(-1, 1)\n",
    "\n",
    "for n_neighbors, ax in zip([1, 3, 9], axes):\n",
    "    \n",
    "    # make predictions using 1, 3, or 9 neighbors\n",
    "    reg = KNeighborsRegressor(n_neighbors=n_neighbors)\n",
    "    \n",
    "    # Fit\n",
    "    reg.fit(X_train, y_train)\n",
    "    \n",
    "    # plot predictions\n",
    "    ax.plot(line, reg.predict(line), )\n",
    "    \n",
    "    ax.plot(line, reg.predict(line), c = colors[0])\n",
    "    \n",
    "    ax.plot(X_train, y_train, '^',  markersize=4, c = colors[1])\n",
    "    \n",
    "    ax.plot(X_test, y_test, 'v', markersize=4, c = colors[2])\n",
    "    \n",
    "    ax.axhline(0, c = 'k')\n",
    "    \n",
    "    ax.set_title(\n",
    "        \"{} neighbor(s)\\n train score: {:.2f} test score: {:.2f}\".format(\n",
    "            n_neighbors, reg.score(X_train, y_train),\n",
    "            reg.score(X_test, y_test)))\n",
    "    \n",
    "    ax.set_xlabel(\"Feature\")\n",
    "    \n",
    "    ax.set_ylabel(\"Target\")\n",
    "\n",
    "plt.legend([\"Pred\", \"Train\",\"Test\"], loc=\"best\")\n",
    "\n",
    "plt.show()"
   ]
  },
  {
   "cell_type": "markdown",
   "metadata": {},
   "source": [
    "Two important parameters to the KNeighbors classifier: \n",
    "\n",
    "- The number of neighbors and \n",
    "- How you measure distance between data points.\n",
    "\n",
    "In practice, using a small number of neighbors like three or five often works well, but you should\n",
    "certainly **tune** this parameter. \n",
    "\n",
    "By default, Euclidean distance is used, which works well in many settings. One should also look at cosine similarity \n",
    "\n",
    "**Strength:**\n",
    "- k-NN is that the model is very easy to understand, and often gives reasonable performance without a lot of adjustments. \n",
    "\n",
    "- Gives a good baseline method to try before considering more advanced techniques.\n",
    "\n",
    "**Weakness**\n",
    "- Building the nearest neighbors model is usually very fast, but when your training set is very large (either in number of features or in number of samples) prediction can be slow.\n",
    "\n",
    "- When using the k-NN algorithm, it is important to pre-process your data. However, avoid pre-processing where most features are 0 most of the time (so-called sparse datasets).\n",
    "\n",
    "So, while the nearest k-neighbors algorithm is easy to understand, it is not often used in practice, due to prediction being slow and its inability to handle many features."
   ]
  },
  {
   "cell_type": "code",
   "execution_count": null,
   "metadata": {},
   "outputs": [],
   "source": []
  },
  {
   "cell_type": "markdown",
   "metadata": {},
   "source": [
    "## Linear Models\n",
    "### Linear models for regression\n",
    "For regression, the general prediction formula for a linear model looks as follows:\n",
    "\n",
    "$\n",
    "\\begin{align*}\n",
    "h(\\theta) = \\theta_0 * x_0 + \\theta_1 * x_1 + ... + \\theta_p * x_p\n",
    "\\end{align*}\n",
    "$\n",
    "\n",
    "where $x_0$ = 1.\n",
    "\n",
    "for single variable $h(\\theta) = \\theta_0 * x_0 + \\theta_1 * x_1$\n",
    "\n",
    "Linear models for regression can be characterized as regression models for which the prediction is a line for a single feature, a plane when using two features, or a hyper‐ plane in higher dimensions (that is, when using more features).\n",
    "\n",
    "Linear regression, or ordinary least squares (OLS), is the simplest and most classic linear method for regression. Linear regression finds the parameters $\\theta$ that minimize the mean squared error between hypothesis (predictions) and the true regression targets, y, on the training set. The mean squared error is the sum of the squared differences between the predictions and the true values, divided by the number of samples. Linear regression has no parameters, which is a benefit, but it also has no way to control model complexity."
   ]
  },
  {
   "cell_type": "code",
   "execution_count": null,
   "metadata": {},
   "outputs": [],
   "source": [
    "def fn_generate_lin_data():\n",
    "    \n",
    "    start = -1\n",
    "    end = 2\n",
    "    delta = 0.05\n",
    "    X = np.arange(start, end+ delta, delta)\n",
    "    \n",
    "    y_rnd = np.random.rand(X.shape[0])\n",
    "    y_train = 2* X + y_rnd\n",
    "    \n",
    "    y_rnd = np.random.rand(X.shape[0])\n",
    "    y_test = 2* X + y_rnd\n",
    "    \n",
    "    fig = plt.figure()\n",
    "    ax = fig.add_subplot()\n",
    "    ax.scatter(X, y_train)\n",
    "    ax.scatter(X, y_test, c = 'r')\n",
    "    ax.axhline(0, c = 'k', lw = 2)\n",
    "    ax.axvline(0, c = 'k', lw = 2)\n",
    "    ax.grid()\n",
    "    return X, X, y_train,  y_test "
   ]
  },
  {
   "cell_type": "code",
   "execution_count": null,
   "metadata": {},
   "outputs": [],
   "source": [
    "X_train, X_test, y_train,  y_test = fn_generate_lin_data()"
   ]
  },
  {
   "cell_type": "code",
   "execution_count": null,
   "metadata": {},
   "outputs": [],
   "source": [
    "X_train.shape, X_test.shape, y_train.shape,  y_test.shape"
   ]
  },
  {
   "cell_type": "code",
   "execution_count": null,
   "metadata": {},
   "outputs": [],
   "source": [
    "from sklearn.linear_model import LinearRegression\n",
    "\n",
    "lr = LinearRegression()\n",
    "lr.fit(X_train.reshape(-1, 1), y_train) # Reshaping x to make it 2D as per SKLearn datastructure\n",
    "\n",
    "lr.coef_, lr.intercept_"
   ]
  },
  {
   "cell_type": "code",
   "execution_count": null,
   "metadata": {},
   "outputs": [],
   "source": [
    "# cross verifying using lin alg"
   ]
  },
  {
   "cell_type": "code",
   "execution_count": null,
   "metadata": {},
   "outputs": [],
   "source": [
    "def fn_lin_fit(X_train, y_train, X_test, y_test, nOrder):\n",
    "    '''\n",
    "    Args:\n",
    "        X_train : np.ndarray\n",
    "        y_train : np.ndarray\n",
    "        X_test : np.ndarray\n",
    "        y_test : np.ndarray\n",
    "        nOrder : order of equation to fit\n",
    "    '''\n",
    "    a = np.empty([nOrder,nOrder])\n",
    "    \n",
    "    b = np.empty([nOrder])\n",
    "    \n",
    "    for i in range(nOrder):\n",
    "        \n",
    "        for j in range(nOrder):\n",
    "            \n",
    "            a[i,j] = (np.power(X_train, i)*np.power(X_train, j)).sum()\n",
    "            \n",
    "            a[j,i] = (np.power(X_train, i)*np.power(X_train, j)).sum()\n",
    "        \n",
    "        b[i] = (y_train*np.power(X_train, i)).sum() \n",
    "\n",
    "    #print( 'a:',a)\n",
    "    #print( 'b:',b)    \n",
    "\n",
    "    sol = np.linalg.solve(a,b)\n",
    "    \n",
    "    print ('Solution:', sol)\n",
    "    \n",
    "    return sol"
   ]
  },
  {
   "cell_type": "code",
   "execution_count": null,
   "metadata": {},
   "outputs": [],
   "source": [
    "orderN = 2\n",
    "\n",
    "sol = fn_lin_fit(X_train, y_train, X_test, y_test, orderN)"
   ]
  },
  {
   "cell_type": "code",
   "execution_count": null,
   "metadata": {},
   "outputs": [],
   "source": [
    "from sklearn.metrics import r2_score\n",
    "\n",
    "def fn_beautify_plot(ax, y):\n",
    "    '''\n",
    "    Args:\n",
    "        ax : matplotlin axis object\n",
    "        y: predicted values\n",
    "    '''\n",
    "    \n",
    "    # properties  matplotlib.patch.Patch \n",
    "    props = dict(boxstyle='round', facecolor='aqua', alpha=0.4)\n",
    "\n",
    "    # little beautification\n",
    "    r2_test  =  r2_score(y, y_test)\n",
    "    r2_train =  r2_score(lr.predict(X_train.reshape(-1, 1)), y_train)\n",
    "\n",
    "    txtstr = \"R2 Scores: \\n Training : {:6.3f}\\n Testing   : {:6.3f}\".format(r2_train,\n",
    "                                                                          r2_test) #text to plot\n",
    "    # place a text box in upper left in axes coords\n",
    "\n",
    "    ax.text(0.4, 0.95, txtstr, transform=ax.transAxes, fontsize=14,\n",
    "            verticalalignment='top', bbox=props)\n",
    "    ymin, ymax = ax.get_ylim()\n",
    "\n",
    "    ax.vlines(0, ymin, ymax, color= 'k', linewidth = 2)\n",
    "    ax.hlines(0, X_test.min(), X_test.max(), color= 'k', linewidth = 2)\n",
    "    ax.grid()"
   ]
  },
  {
   "cell_type": "code",
   "execution_count": null,
   "metadata": {},
   "outputs": [],
   "source": [
    "y_pred = lr.predict(X_test.reshape(-1, 1))\n",
    "\n",
    "y_hat = np.zeros(len(X_test))\n",
    "\n",
    "for i in range(orderN):\n",
    "\n",
    "    y_hat  += np.power(X_test, i)*sol[i]\n",
    "\n",
    "fig, axes = plt.subplots(1,2, figsize = (15,6))\n",
    "\n",
    "colors = CMAP(np.linspace(0,1,4))\n",
    "\n",
    "ax = axes[0]\n",
    "ax.plot(X_test,y_hat , color = 'b', lw = 3)\n",
    "ax.scatter(X_train, y_train, color = 'g')\n",
    "ax.scatter(X_test, y_test, color = 'Orange')\n",
    "fn_beautify_plot(ax, y_hat)\n",
    "ax.set_title('Linear Algebra')\n",
    "\n",
    "\n",
    "ax = axes[1]\n",
    "ax.plot(X_test,y_pred , color = 'b', lw = 3)\n",
    "ax.scatter(X_train, y_train, color = 'g')\n",
    "ax.scatter(X_test, y_test, color = 'Orange')\n",
    "fn_beautify_plot(ax, y_pred)\n",
    "ax.set_title('LinearRegression')\n",
    "\n",
    "plt.tight_layout()\n",
    "plt.show()"
   ]
  },
  {
   "cell_type": "markdown",
   "metadata": {},
   "source": [
    "## Ridge regression\n",
    "Ridge regression is also a linear model for regression, so it uses same ordinary least squares. \n",
    "In ridge regression,though, the coefficients (w) are chosen not only so that they predict well on the training data, but also to fit an additional constraint. \n",
    "\n",
    "This constraint is an example of what is called regularization. Regularization means explicitly restricting a model to avoid over-fitting. The particular kind used by ridge regression is known as L2 regularization.\n",
    "\n",
    "### Introducing Boston Housing Dataset\n",
    "\n",
    "\n",
    "The Boston Housing Dataset is a derived from information collected by the U.S. Census Service concerning housing in the area of Boston MA. The following describes the dataset columns:\n",
    "\n",
    "- CRIM - per capita crime rate by town\n",
    "- ZN - proportion of residential land zoned for lots over 25,000 sq.ft.\n",
    "- INDUS - proportion of non-retail business acres per town.\n",
    "- CHAS - Charles River dummy variable (1 if tract bounds river; 0 otherwise)\n",
    "- NOX - nitric oxides concentration (parts per 10 million)\n",
    "- RM - average number of rooms per dwelling\n",
    "- AGE - proportion of owner-occupied units built prior to 1940\n",
    "- DIS - weighted distances to five Boston employment centres\n",
    "- RAD - index of accessibility to radial highways\n",
    "- TAX - full-value property-tax rate per 10,000\n",
    "- PTRATIO - pupil-teacher ratio by town\n",
    "- B - 1000(Bk - 0.63)^2 where Bk is the proportion of blacks by town\n",
    "- LSTAT - % lower status of the population\n",
    "- MEDV - Median value of owner-occupied homes in $1000's\n",
    "\n"
   ]
  },
  {
   "cell_type": "code",
   "execution_count": null,
   "metadata": {},
   "outputs": [],
   "source": [
    "dataDir = 'boston_housing'\n",
    "\n",
    "dataFile = 'housing.csv'\n",
    "\n",
    "dataPath = os.path.join(inpDir, dataDir, dataFile)"
   ]
  },
  {
   "cell_type": "code",
   "execution_count": null,
   "metadata": {},
   "outputs": [],
   "source": [
    "col_names = ['CRIM', 'ZN', 'INDUS', 'CHAS', 'NOX', 'RM', 'AGE', 'DIS', 'RAD', 'TAX', 'PTRATIO', 'B', 'LSTAT', 'MEDV']\n",
    "\n",
    "data_df = pd.read_csv(dataPath, header=None, delimiter=r\"\\s+\", names=col_names)\n",
    "\n",
    "data_df.head()"
   ]
  },
  {
   "cell_type": "code",
   "execution_count": null,
   "metadata": {},
   "outputs": [],
   "source": [
    "data_df.columns"
   ]
  },
  {
   "cell_type": "code",
   "execution_count": null,
   "metadata": {},
   "outputs": [],
   "source": [
    "data_df.describe()"
   ]
  },
  {
   "cell_type": "markdown",
   "metadata": {},
   "source": [
    "### Box Plot\n",
    "A box plot (or box-and-whisker plot) shows the distribution of quantitative data in a way that facilitates comparisons between variables or across levels of a categorical variable. The box shows the quartiles of the dataset while the whiskers extend to show the rest of the distribution, except for points that are determined to be “outliers” using a method that is a function of the inter-quartile range.\n",
    "\n",
    "<img src = '../../images/boxplot.png' width = '400px' alt = 'Box plot' />"
   ]
  },
  {
   "cell_type": "code",
   "execution_count": null,
   "metadata": {
    "tags": []
   },
   "outputs": [],
   "source": []
  },
  {
   "cell_type": "code",
   "execution_count": null,
   "metadata": {},
   "outputs": [],
   "source": [
    "import seaborn as sns\n",
    "import matplotlib.pyplot as plt\n",
    "from scipy import stats\n",
    "\n",
    "fig, axes = plt.subplots(ncols=7, nrows=2, figsize=(20, 10))\n",
    "\n",
    "index = 0\n",
    "\n",
    "axes = axes.flatten()\n",
    "\n",
    "for k,v in data_df.items():\n",
    "    sns.boxplot(y=k, data=data_df, ax=axes[index], saturation=0.75,)\n",
    "    index += 1\n",
    "plt.tight_layout(pad=0.4, w_pad=0.5, h_pad=5.0)"
   ]
  },
  {
   "cell_type": "code",
   "execution_count": null,
   "metadata": {},
   "outputs": [],
   "source": [
    "plt.figure(figsize=(20, 10))\n",
    "sns.heatmap(data_df.corr().abs(),  annot=True);"
   ]
  },
  {
   "cell_type": "markdown",
   "metadata": {},
   "source": [
    "From correlation matrix, we see TAX and RAD are highly correlated features. The columns LSTAT, INDUS, RM, TAX, NOX, PTRAIO has a correlation score above 0.4 with MEDV which is a good indication of using as predictors. Let's plot these columns against MEDV."
   ]
  },
  {
   "cell_type": "code",
   "execution_count": null,
   "metadata": {},
   "outputs": [],
   "source": [
    "selected_cols = ['LSTAT', 'INDUS', 'NOX', 'PTRATIO', 'RM', 'TAX', 'DIS', 'AGE']\n",
    "\n",
    "y = data_df['MEDV']\n",
    "\n",
    "data_df = data_df.loc[:, selected_cols]"
   ]
  },
  {
   "cell_type": "code",
   "execution_count": null,
   "metadata": {},
   "outputs": [],
   "source": [
    "# using original dataset for splitting\n",
    "\n",
    "X_train, X_test, y_train, y_test = train_test_split(data_df, y, random_state=RANDOM_STATE)"
   ]
  },
  {
   "cell_type": "code",
   "execution_count": null,
   "metadata": {},
   "outputs": [],
   "source": [
    "'''# transform Train data\n",
    "y_train =  np.log1p(y_train)\n",
    "\n",
    "for col in X_train.columns:\n",
    "    \n",
    "    if np.abs(X_train[col].skew()) > 0.3:\n",
    "        \n",
    "        X_train[col] = np.log1p(X_train[col])\n",
    "\n",
    "\n",
    "# transform test data\n",
    "\n",
    "y_test =  np.log1p(y_test)\n",
    "\n",
    "for col in X_test.columns:\n",
    "    \n",
    "    if np.abs(X_test[col].skew()) > 0.3:\n",
    "        \n",
    "        X_test[col] = np.log1p(X_test[col])'''\n",
    "\n",
    "X_train.shape, X_test.shape, y_train.shape, y_test.shape"
   ]
  },
  {
   "cell_type": "code",
   "execution_count": null,
   "metadata": {},
   "outputs": [],
   "source": [
    "sc = MinMaxScaler()\n",
    "\n",
    "X_train = sc.fit_transform(X_train)\n",
    "\n",
    "X_test = sc.transform(X_test)\n",
    "\n",
    "lr = LinearRegression()\n",
    "\n",
    "lr.fit(X_train, y_train)\n",
    "\n",
    "y_pred = lr.predict(X_test)\n",
    "\n",
    "# lets print Linear Regression results\n",
    "print ('Train R2 Score: {:7.4f}'.format(lr.score(X_train, y_train)))\n",
    "print ('Test R2 Score : {:7.4f}'.format(lr.score(X_test, y_test)))"
   ]
  },
  {
   "cell_type": "code",
   "execution_count": null,
   "metadata": {},
   "outputs": [],
   "source": [
    "from sklearn.linear_model import Ridge\n",
    "\n",
    "ridge = Ridge()\n",
    "\n",
    "ridge.fit(X_train, y_train)\n",
    "\n",
    "# lets print Linear Regression results\n",
    "print ('Train R2 Score: {:7.4f}'.format(ridge.score(X_train, y_train)))\n",
    "print ('Test R2 Score : {:7.4f}'.format(ridge.score(X_test , y_test )))"
   ]
  },
  {
   "cell_type": "code",
   "execution_count": null,
   "metadata": {},
   "outputs": [],
   "source": [
    "ridge10 = Ridge(alpha=10).fit(X_train, y_train)\n",
    "print(\"Train set score: {:7.4f}\".format(ridge10.score(X_train, y_train)))\n",
    "print(\"Test  set score: {:7.4f}\".format(ridge10.score(X_test, y_test)))"
   ]
  },
  {
   "cell_type": "markdown",
   "metadata": {},
   "source": [
    "### Introducing PolynomialFeatures\n",
    "\n",
    "Generate a new feature matrix consisting of all polynomial combinations of the features with degree less than or equal to the specified degree. For example, if an input sample is two dimensional and of the form $[a, b]$, the degree-2 polynomial features are $[1, a, b, a^2, ab, b^2]$."
   ]
  },
  {
   "cell_type": "markdown",
   "metadata": {},
   "source": [
    "## Cross-validation: evaluating estimator performance\n",
    "\n",
    "Its is recommended to split dataset in three chunks. Following distribution is recommended for dataset having upto 10000 samples (records):\n",
    "- train dataset - 64%\n",
    "- test dataset - 16%\n",
    "- validation dataset - 20%\n",
    "\n",
    "However, it is too much to sacrifice for smaller datasets. Solution to the problem is cross-validation(CV for short). A test set should still be held out for final evaluation, but the validation set is no longer needed when doing CV. In the basic approach, called k-fold CV, the training set is split into k smaller sets (other approaches are described below, but generally follow the same principles). The following procedure is followed for each of the k folds:\n",
    "\n",
    "- A model is trained using (k-1) of the folds as training data;\n",
    "- the resulting model is tested on the remaining part of the data (i.e., it is used as a test set to compute a performance measure such as accuracy).\n",
    "\n",
    "<img src ='../../images/grid_search_workflow.png' width='400px' alt='Grid Search Cross Validation' />\n",
    "\n",
    "The performance measure reported by k-fold cross-validation is then the average of the values computed in the loop. This approach can be computationally expensive, but does not waste too much data (as is the case when fixing an arbitrary validation set), which is a major advantage in problems such as inverse inference where the number of samples is very small.\n",
    "\n",
    "<img src ='../../images/grid_search_cross_validation.png' width='400px' alt='Grid Search Cross Validation' />"
   ]
  },
  {
   "cell_type": "markdown",
   "metadata": {},
   "source": [
    "### GridSearch with Cross Validation\n",
    "\n",
    "Exhaustive search over specified parameter values for an estimator.\n",
    "\n",
    "Important members are fit, predict.\n",
    "\n",
    "GridSearchCV implements a `fit` and a `score` method. It also implements `score_samples`, `predict`, `predict_proba`, `decision_function`, `transform` and `inverse_transform` if they are implemented in the estimator used.\n",
    "\n",
    "The parameters of the estimator used to apply these methods are optimized by cross-validated grid-search over a parameter grid.\n",
    "\n",
    "### Randomized search on hyper parameters.\n",
    "\n",
    "RandomizedSearchCV also implements a `fit`, `score` , `score_samples`, `predict`, `predict_proba`, `decision_function`, `transform` and `inverse_transform` if they are implemented in the estimator used.\n",
    "\n",
    "The parameters of the estimator used to apply these methods are optimized by cross-validated search over parameter settings.\n",
    "\n",
    "In contrast to GridSearchCV, not all parameter values are tried out, but rather a fixed number of parameter settings is sampled from the specified distributions. The number of parameter settings that are tried is given by n_iter."
   ]
  },
  {
   "cell_type": "markdown",
   "metadata": {},
   "source": [
    "## Creating a Machine-Learning pipeline\n",
    "\n",
    "If you notice, the process that we have followed so far has been a fairly sequential process: first, you eliminate variables, standardize them, create dummies them, train the model and make the prediction.\n",
    "\n",
    "Until now, each of these steps has gone separately, in such a way that first you always declare the transformation of the model, then you do the fit (or train in the case of the model) and finally, you end up applying it.\n",
    "\n",
    "Luckily, Sklearn offers a much easier way to go about this whole process: Pipelines and Transformers. Thanks to the pipelines and Column Transformers, instead of having to do each step separately, we can define what steps we want to be done and Sklearn itself will apply all the steps that we indicate sequentially.\n",
    "\n",
    "The only difference between pipelines and column transformers is that a pipeline allows several operations to be applied on a column but without being able to parallelize it. However, the ColumnTransformer is only good for applying a single operation per column, but it can be parallelized.\n",
    "\n",
    "In our case, as we have performed several operations on the same column, we will use the pipeline. Let's see how to use it:"
   ]
  },
  {
   "cell_type": "code",
   "execution_count": null,
   "metadata": {},
   "outputs": [],
   "source": [
    "from sklearn.pipeline import make_pipeline\n",
    "\n",
    "from sklearn.preprocessing import PolynomialFeatures\n",
    "\n",
    "from sklearn.model_selection import cross_val_score, KFold"
   ]
  },
  {
   "cell_type": "code",
   "execution_count": null,
   "metadata": {},
   "outputs": [],
   "source": [
    "kf = KFold(n_splits=10)\n",
    "\n",
    "lr = LinearRegression()\n",
    "\n",
    "scores = cross_val_score(lr, \n",
    "                         X_train, y_train, \n",
    "                         cv=kf, \n",
    "                         scoring='neg_mean_squared_error')\n",
    "\n",
    "\n",
    "print(\"MSE: %0.2f (+/- %0.2f)\" % (scores.mean(), scores.std()))"
   ]
  },
  {
   "cell_type": "code",
   "execution_count": null,
   "metadata": {},
   "outputs": [],
   "source": [
    "kf = KFold(n_splits=10)\n",
    "\n",
    "ridge = Ridge()\n",
    "\n",
    "scores = cross_val_score(ridge, \n",
    "                         X_train, y_train, \n",
    "                         cv=kf, \n",
    "                         scoring='neg_mean_squared_error')\n",
    "\n",
    "\n",
    "print(\"MSE: %0.2f (+/- %0.2f)\" % (scores.mean(), scores.std()))"
   ]
  },
  {
   "cell_type": "code",
   "execution_count": null,
   "metadata": {},
   "outputs": [],
   "source": [
    "model = make_pipeline(PolynomialFeatures(degree=3), \n",
    "                      Ridge())\n",
    "kf = KFold(n_splits=10)\n",
    "\n",
    "scores = cross_val_score(model, \n",
    "                         X_train, y_train, \n",
    "                         cv=kf, \n",
    "                         scoring='neg_mean_squared_error')\n",
    "\n",
    "\n",
    "print(\"MSE: %0.2f (+/- %0.2f)\" % (scores.mean(), scores.std()))"
   ]
  },
  {
   "cell_type": "markdown",
   "metadata": {},
   "source": [
    "## Lasso\n",
    "\n",
    "The lasso also restricts coefficients to be close to zero, but using L1 regularization. The consequence of L1 regularization\n",
    "is that when using the lasso, some coefficients are exactly zero. This means some features are entirely ignored by the model. This can be seen as a form of automatic feature selection. Having some coefficients be exactly zero often makes a model easier to interpret, and can reveal the most important features of your model.\n",
    "\n",
    "$\\alpha$ is learning rate (constant that multiplies the L1 term, controlling regularization strength). $\\alpha$ must be a non-negative float i.e. in [0, inf).\n",
    "\n",
    "When alpha = 0, the objective is equivalent to ordinary least squares, solved by the LinearRegression object. For numerical reasons, using alpha = 0 with the Lasso object is not advised. Instead, you should use the LinearRegression object.\n",
    "\n",
    "\n",
    "Let's apply the lasso to the extended Boston Housing dataset:"
   ]
  },
  {
   "cell_type": "code",
   "execution_count": null,
   "metadata": {},
   "outputs": [],
   "source": [
    "from sklearn.linear_model import Lasso\n",
    "\n",
    "lasso = Lasso().fit(X_train, y_train)\n",
    "\n",
    "print(\"Training set score: {:.2f}\".format(lasso.score(X_train, y_train)))\n",
    "\n",
    "print(\"Test set score: {:.2f}\".format(lasso.score(X_test, y_test)))\n",
    "\n",
    "print(\"Number of features used: {}\".format(np.sum(lasso.coef_ != 0)))"
   ]
  },
  {
   "cell_type": "markdown",
   "metadata": {},
   "source": [
    "Not doing well...\n",
    "\n",
    "We can understand as default $\\alpha$ is 1.0. We can experiment with $\\alpha$ to optimize the results."
   ]
  },
  {
   "cell_type": "code",
   "execution_count": null,
   "metadata": {},
   "outputs": [],
   "source": [
    "# increase the default setting of \"max_iter\", otherwise the model would warn us that we should increase max_iter.\n",
    "\n",
    "lasso1 = Lasso(alpha=0.1, max_iter=100000).fit(X_train, y_train)\n",
    "\n",
    "print(\"Training set score: {:.2f}\".format(lasso1.score(X_train, y_train)))\n",
    "\n",
    "print(\"Test set score: {:.2f}\".format(lasso1.score(X_test, y_test)))\n",
    "\n",
    "print(\"Number of features used: {}\".format(np.sum(lasso1.coef_ != 0)))"
   ]
  },
  {
   "cell_type": "code",
   "execution_count": null,
   "metadata": {},
   "outputs": [],
   "source": [
    "# increase the default setting of \"max_iter\", otherwise the model would warn us that we should increase max_iter.\n",
    "\n",
    "lasso01 = Lasso(alpha=0.01, max_iter=100000).fit(X_train, y_train)\n",
    "\n",
    "print(\"Training set score: {:.2f}\".format(lasso01.score(X_train, y_train)))\n",
    "\n",
    "print(\"Test set score: {:.2f}\".format(lasso01.score(X_test, y_test)))\n",
    "\n",
    "print(\"Number of features used: {}\".format(np.sum(lasso01.coef_ != 0)))"
   ]
  },
  {
   "cell_type": "markdown",
   "metadata": {},
   "source": [
    "A lower alpha allowed us to fit a more complex model, which worked better on the\n",
    "training and test data. The performance is slightly better than using Ridge."
   ]
  },
  {
   "cell_type": "code",
   "execution_count": null,
   "metadata": {},
   "outputs": [],
   "source": [
    "kf = KFold(n_splits=10)\n",
    "\n",
    "lassocv = Lasso(alpha=0.01, max_iter=100000)\n",
    "\n",
    "scores = cross_val_score(ridge, \n",
    "                         X_train, y_train, \n",
    "                         cv=kf, \n",
    "                         scoring='neg_mean_squared_error')\n",
    "\n",
    "\n",
    "print(\"MSE: %0.2f (+/- %0.2f)\" % (scores.mean(), scores.std()))"
   ]
  },
  {
   "cell_type": "code",
   "execution_count": null,
   "metadata": {},
   "outputs": [],
   "source": [
    "fig, ax = plt.subplots()\n",
    "ax.plot(lasso.coef_, 's', label=\"Lasso alpha=1\")\n",
    "ax.plot(lasso1.coef_, '^', label=\"Lasso alpha=0.01\")\n",
    "ax.plot(lasso01.coef_, 'v', label=\"Lasso alpha=0.0001\")\n",
    "\n",
    "ridge = Ridge(alpha=0.1).fit(X_train, y_train)\n",
    "\n",
    "ax.plot(ridge.coef_, 'o', label=\"Ridge alpha=0.1\")\n",
    "ax.legend(ncol=2, loc=(0, 1.05))\n",
    "ax.set_ylim(-25, 25)\n",
    "ax.set_xlabel(\"Coefficient index\")\n",
    "ax.set_ylabel(\"Coefficient magnitude\")\n",
    "\n",
    "ax.grid()\n",
    "plt.show();"
   ]
  },
  {
   "cell_type": "code",
   "execution_count": null,
   "metadata": {},
   "outputs": [],
   "source": []
  }
 ],
 "metadata": {
  "kernelspec": {
   "display_name": "Python 3 (ipykernel)",
   "language": "python",
   "name": "python3"
  },
  "language_info": {
   "codemirror_mode": {
    "name": "ipython",
    "version": 3
   },
   "file_extension": ".py",
   "mimetype": "text/x-python",
   "name": "python",
   "nbconvert_exporter": "python",
   "pygments_lexer": "ipython3",
   "version": "3.10.12"
  }
 },
 "nbformat": 4,
 "nbformat_minor": 4
}
