{
 "cells": [
  {
   "cell_type": "code",
   "execution_count": 2,
   "id": "ce246879-6abb-43e7-804b-885d66b83de6",
   "metadata": {},
   "outputs": [
    {
     "name": "stdout",
     "output_type": "stream",
     "text": [
      "43.42857142857143\n",
      "42.0\n",
      "106.85714285714286\n",
      "42.0\n"
     ]
    },
    {
     "data": {
      "text/plain": [
       "Department\n",
       "A    34000.500000\n",
       "B    37548.875000\n",
       "C    40664.857143\n",
       "D    43190.952381\n",
       "Name: Salary, dtype: float64"
      ]
     },
     "execution_count": 2,
     "metadata": {},
     "output_type": "execute_result"
    }
   ],
   "source": [
    "import numpy as np\n",
    "import pandas as pd\n",
    "import seaborn as sns\n",
    "\n",
    "iris = pd.read_csv(\"/home/hpcap/Desktop/Analytics & Statistics/iris.csv\")\n",
    "exp_sals = pd.read_csv(\"/home/hpcap/Desktop/Analytics & Statistics/Exp_Salaries.csv\")\n",
    "\n",
    "iris['Sepal.Length'].mean()\n",
    "iris['Sepal.Length'].median()\n",
    "\n",
    "a = np.array([45, 48, 56, 42, 35, 38, 40])\n",
    "print(a.mean())\n",
    "print(np.median(a))\n",
    "\n",
    "a = np.array([45, 48, 500, 42, 35, 38, 40])\n",
    "print(a.mean())\n",
    "print(np.median(a))\n",
    "\n",
    "exp_sals['Salary'].mean()\n",
    "males = exp_sals[exp_sals['Gender']=='Male']\n",
    "fem = exp_sals[exp_sals['Gender']=='Female']\n",
    "males['Salary'].mean()\n",
    "fem['Salary'].mean()\n",
    "# or\n",
    "exp_sals.groupby('Gender')['Salary'].mean()\n",
    "\n",
    "exp_sals.groupby('Department')['Salary'].mean()\n",
    "\n",
    "\n",
    "\n"
   ]
  },
  {
   "cell_type": "code",
   "execution_count": 1,
   "id": "a4fafee3-b16c-4de5-9f4d-cf3a620c8d6f",
   "metadata": {},
   "outputs": [
    {
     "ename": "NameError",
     "evalue": "name 'sns' is not defined",
     "output_type": "error",
     "traceback": [
      "\u001b[0;31m---------------------------------------------------------------------------\u001b[0m",
      "\u001b[0;31mNameError\u001b[0m                                 Traceback (most recent call last)",
      "Cell \u001b[0;32mIn[1], line 1\u001b[0m\n\u001b[0;32m----> 1\u001b[0m sns\u001b[38;5;241m.\u001b[39mboxplot(data\u001b[38;5;241m=\u001b[39mexp_sals, x\u001b[38;5;241m=\u001b[39m\u001b[38;5;124m'\u001b[39m\u001b[38;5;124mGender\u001b[39m\u001b[38;5;124m'\u001b[39m, y\u001b[38;5;241m=\u001b[39m\u001b[38;5;124m'\u001b[39m\u001b[38;5;124mSalary\u001b[39m\u001b[38;5;124m'\u001b[39m)\n",
      "\u001b[0;31mNameError\u001b[0m: name 'sns' is not defined"
     ]
    }
   ],
   "source": [
    "sns.boxplot(data=exp_sals, x='Gender', y='Salary')\n"
   ]
  },
  {
   "cell_type": "code",
   "execution_count": null,
   "id": "b963925a-6271-449a-bb74-ee45a608487e",
   "metadata": {},
   "outputs": [],
   "source": []
  }
 ],
 "metadata": {
  "kernelspec": {
   "display_name": "Python 3 (ipykernel)",
   "language": "python",
   "name": "python3"
  },
  "language_info": {
   "codemirror_mode": {
    "name": "ipython",
    "version": 3
   },
   "file_extension": ".py",
   "mimetype": "text/x-python",
   "name": "python",
   "nbconvert_exporter": "python",
   "pygments_lexer": "ipython3",
   "version": "3.11.7"
  }
 },
 "nbformat": 4,
 "nbformat_minor": 5
}
